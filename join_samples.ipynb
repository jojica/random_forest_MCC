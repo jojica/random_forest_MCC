{
 "cells": [
  {
   "cell_type": "code",
   "execution_count": null,
   "id": "436dcfff",
   "metadata": {},
   "outputs": [],
   "source": [
    "import anndata\n",
    "import scanpy as sc\n",
    "import pandas as pd\n",
    "import numpy as np"
   ]
  },
  {
   "cell_type": "code",
   "execution_count": null,
   "id": "d8e7032f",
   "metadata": {},
   "outputs": [],
   "source": [
    "# write an anndata object for each sample\n",
    "\n",
    "# easiest if all feature/matrix/barcode files have similar name format\n",
    "# specify prefixes in files list below\n",
    "files = ['A', 'B', 'C', 'D', 'E', 'F', 'G', 'H']\n",
    "\n",
    "for fileID in files:\n",
    "    print(f'working on {fileID}...')\n",
    "    \n",
    "    # read features file to be used for var field of the anndata object\n",
    "    file_name = f'{fileID}_features.tsv'\n",
    "    df = pd.read_csv(file_name,sep = '\\t',header= None, index_col=0)\n",
    "    var = df\n",
    "    # specify index name and column names however you want\n",
    "    # (would be good to pull out the features dataframe and look at it to decide on column names\n",
    "    var.index.name = 'GeneID'\n",
    "    var.columns = ['Gene_Name', 'Info']\n",
    "    \n",
    "    # read matrix file to be used for main anndata object for this sample\n",
    "    file_name = f'{fileID}_matrix.mtx'\n",
    "    adata = sc.read_mtx(file_name, dtype='float64')\n",
    "    adata = adata.T.copy() # Without copy - downstream does not work correctly\n",
    "    \n",
    "    # read barcodes file to be used for obs field of the anndata object\n",
    "    file_name = f'{fileID}_barcodes.tsv'\n",
    "    df = pd.read_csv(file_name,sep = '\\t', header = None, index_col = 0)\n",
    "    df.index.name = 'barcode'\n",
    "    # Edit individual anndata objects index for obs to append patient letter/lane\n",
    "    # so the barcodes match with the metadata file\n",
    "    df.index = df.index + fileID\n",
    "    obs = df\n",
    "    \n",
    "    # set anndata object obs and var fields with the barcode and features dataframes\n",
    "    adata.obs = obs\n",
    "    adata.var = var\n",
    "    adata.var_names_make_unique()\n",
    "    adata.obs_names_make_unique()\n",
    "    \n",
    "    # write one sample anndata object to a file\n",
    "    adata.write_h5ad(f'sample_{fileID}.h5ad',compression='gzip')"
   ]
  },
  {
   "cell_type": "code",
   "execution_count": null,
   "id": "18f7c68e",
   "metadata": {},
   "outputs": [],
   "source": [
    "# read all anndata objects you want to join together\n",
    "adata_A = sc.read('sample_A.h5ad')\n",
    "adata_B = sc.read('sample_B.h5ad')\n",
    "adata_C = sc.read('sample_C.h5ad')\n",
    "adata_D = sc.read('sample_D.h5ad')\n",
    "adata_E = sc.read('sample_E.h5ad')\n",
    "adata_F = sc.read('sample_F.h5ad')\n",
    "adata_G = sc.read('sample_G.h5ad')\n",
    "adata_H = sc.read('sample_H.h5ad')"
   ]
  },
  {
   "cell_type": "code",
   "execution_count": null,
   "id": "fd06e414",
   "metadata": {},
   "outputs": [],
   "source": [
    "# join all anndata objects together\n",
    "# make sure you know what order you joined things together so later the metadata can be joined appropriately\n",
    "# a column will be added to obs with the batch number obtained from the order of the join here (aka A is 0, B is 1, etc.)\n",
    "# important to use outer join so everything gets concatenated together\n",
    "adata_all = adata_A.concatenate(adata_B, adata_C, adata_D, adata_E, adata_F, adata_G, adata_H, join='outer',index_unique=None)\n"
   ]
  },
  {
   "cell_type": "code",
   "execution_count": null,
   "id": "9cacc414",
   "metadata": {},
   "outputs": [],
   "source": [
    "# read metadata file and look at it to confirm what the lanes are for each sample\n",
    "# if you don't have lanes but instead have patient IDs that correspond between the metadata file and the sample files\n",
    "# then confirm what the patient IDs are for each sample\n",
    "df_meta = pd.read_csv('metadata_pre_CD8_withclusters.csv', index_col=0)\n",
    "df_meta.index.name = 'barcode'\n",
    "df_meta"
   ]
  },
  {
   "cell_type": "code",
   "execution_count": null,
   "id": "dae7988f",
   "metadata": {},
   "outputs": [],
   "source": [
    "# specify a map from batch (in the joined anndata object) to lane (in the metadata dataframe) [or patient ID]\n",
    "# this is to make sure the merge in the next step works correctly\n",
    "batch_to_lane = {0: 'A', 1: 'B', 2: 'C', 3: 'D', 4: 'E', 5: 'F', 6: 'G', 7: 'H'}\n",
    "\n",
    "# add a lane column in the big anndata object obs field that should match exactly with the lane column in the metadata object\n",
    "adata_all.obs['lane'] = adata_all.obs['batch'].astype(int).map(batch_to_lane)"
   ]
  },
  {
   "cell_type": "code",
   "execution_count": null,
   "id": "a9b3408b",
   "metadata": {},
   "outputs": [],
   "source": [
    "# drop rows that have NaNs in the lane\n",
    "df_meta_drop_nan = df_meta[~df_meta['lane'].isnull()]"
   ]
  },
  {
   "cell_type": "code",
   "execution_count": null,
   "id": "4f7da885",
   "metadata": {},
   "outputs": [],
   "source": [
    "# merge the big anndata object's obs field with the metadata\n",
    "# important to use outer join so all the info from the metadata ends up in the final dataframe\n",
    "# using reset_index and merging left/right on ['barcode', 'lane'] which should be the two columns that match exactly\n",
    "# 'barcode' is the index for adata_all.obs, but when we use reset_index, it'll become a column to merge on\n",
    "test_merge_reset = adata_all.obs.reset_index().merge(df_meta_drop_nan.reset_index(), how='outer', left_on = ['barcode','lane'], right_on = ['barcode','lane'])\n",
    "test_merge_reset"
   ]
  },
  {
   "cell_type": "code",
   "execution_count": null,
   "id": "e3ba5d5f",
   "metadata": {},
   "outputs": [],
   "source": [
    "# set the index of the merged dataframe to 'barcode'\n",
    "test_merge = test_merge_reset.set_index('barcode')"
   ]
  },
  {
   "cell_type": "code",
   "execution_count": null,
   "id": "9b59fe75",
   "metadata": {},
   "outputs": [],
   "source": [
    "# set the obs field of the big anndata object to the merged dataframe with the metadata\n",
    "# if everything has worked properly, the shapes of test_merge and adata_all.obs should match in terms of number of rows\n",
    "# if there is an issue here, see if there are any repeating indices for some reason\n",
    "adata_all.obs = test_merge"
   ]
  },
  {
   "cell_type": "code",
   "execution_count": null,
   "id": "4e5d8e93",
   "metadata": {},
   "outputs": [],
   "source": [
    "# write the final anndata object to a file\n",
    "adata_all.write('all_samples_clusters.h5ad')"
   ]
  }
 ],
 "metadata": {
  "kernelspec": {
   "display_name": "Python 3 (ipykernel)",
   "language": "python",
   "name": "python3"
  },
  "language_info": {
   "codemirror_mode": {
    "name": "ipython",
    "version": 3
   },
   "file_extension": ".py",
   "mimetype": "text/x-python",
   "name": "python",
   "nbconvert_exporter": "python",
   "pygments_lexer": "ipython3",
   "version": "3.9.6"
  }
 },
 "nbformat": 4,
 "nbformat_minor": 5
}
